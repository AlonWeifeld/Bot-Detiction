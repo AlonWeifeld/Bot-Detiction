{
 "cells": [
  {
   "cell_type": "code",
   "execution_count": 2,
   "id": "3116b3d9",
   "metadata": {},
   "outputs": [],
   "source": [
    "from sklearn.linear_model import LogisticRegression\n",
    "from sklearn.metrics import confusion_matrix, accuracy_score, precision_score, recall_score, f1_score\n",
    "from sklearn.model_selection import cross_val_predict, StratifiedKFold\n",
    "import pandas as pd\n",
    "from sklearn.preprocessing import StandardScaler\n"
   ]
  },
  {
   "cell_type": "code",
   "execution_count": 3,
   "id": "9b94c163",
   "metadata": {},
   "outputs": [],
   "source": [
    "data = pd.read_csv('D:\\\\Bot project\\\\final_data\\\\final.csv') "
   ]
  },
  {
   "cell_type": "code",
   "execution_count": 4,
   "id": "1fe6245b",
   "metadata": {},
   "outputs": [],
   "source": [
    "data = pd.read_csv('D:\\\\Bot project\\\\final_data\\\\final.csv') \n",
    "# Preprocessing the data\n",
    "X = data.drop(['Unnamed: 0', 'created_at', 'id', 'lang', 'location', 'screen_name', 'account_type'], axis=1)\n",
    "X = pd.get_dummies(X, drop_first=True)\n",
    "y = data['account_type'].apply(lambda x: 1 if x == 'bot' else 0)\n",
    "\n",
    "# Scale the features\n",
    "scaler = StandardScaler()\n",
    "X_scaled = scaler.fit_transform(X)\n",
    "# Initialize the model\n",
    "model_lr = LogisticRegression(C=1.0, penalty='l2', solver='liblinear', random_state=42)\n"
   ]
  },
  {
   "cell_type": "code",
   "execution_count": null,
   "id": "73bee31e",
   "metadata": {},
   "outputs": [],
   "source": [
    "# Apply 5-fold cross-validation\n",
    "cv = StratifiedKFold(n_splits=5, shuffle=True, random_state=42)\n",
    "y_pred_lr = cross_val_predict(model_lr, X_scaled, y, cv=cv)\n",
    "\n",
    "# Evaluate the model\n",
    "conf_matrix_lr = confusion_matrix(y, y_pred_lr)\n",
    "accuracy_lr = accuracy_score(y, y_pred_lr)\n",
    "precision_lr = precision_score(y, y_pred_lr)\n",
    "recall_lr = recall_score(y, y_pred_lr)\n",
    "f1_lr = f1_score(y, y_pred_lr)\n",
    "\n",
    "# Print the results\n",
    "print(\"Logistic Regression Results:\")\n",
    "print(\"Confusion Matrix:\\n\", conf_matrix_lr)\n",
    "print(\"Accuracy:\", accuracy_lr)\n",
    "print(\"Precision:\", precision_lr)\n",
    "print(\"Recall:\", recall_lr)\n",
    "print(\"F1 Score:\", f1_lr)"
   ]
  },
  {
   "cell_type": "code",
   "execution_count": null,
   "id": "32b339c6",
   "metadata": {},
   "outputs": [],
   "source": [
    "model_lr.fit(X_scaled, y)\n",
    "# Specify the path to save the model\n",
    "model_path = 'D:\\\\Bot project\\\\final_model\\\\LR.joblib'\n",
    "\n",
    "# Save the model\n",
    "joblib.dump(model_lr, model_path)"
   ]
  }
 ],
 "metadata": {
  "kernelspec": {
   "display_name": "Python 3 (ipykernel)",
   "language": "python",
   "name": "python3"
  },
  "language_info": {
   "codemirror_mode": {
    "name": "ipython",
    "version": 3
   },
   "file_extension": ".py",
   "mimetype": "text/x-python",
   "name": "python",
   "nbconvert_exporter": "python",
   "pygments_lexer": "ipython3",
   "version": "3.10.5"
  }
 },
 "nbformat": 4,
 "nbformat_minor": 5
}

{
 "cells": [
  {
   "cell_type": "code",
   "execution_count": 1,
   "id": "9df260f7",
   "metadata": {},
   "outputs": [],
   "source": [
    "from sklearn.ensemble import RandomForestClassifier\n",
    "from sklearn.metrics import confusion_matrix, accuracy_score, precision_score, recall_score, f1_score\n",
    "from sklearn.model_selection import cross_val_predict, StratifiedKFold\n",
    "import pandas as pd\n",
    "from sklearn.preprocessing import StandardScaler"
   ]
  },
  {
   "cell_type": "code",
   "execution_count": null,
   "id": "eae9a7f5",
   "metadata": {},
   "outputs": [],
   "source": [
    "# Load dataset\n",
    "data = pd.read_csv('D:\\\\Bot project\\\\final_data\\\\final.csv')"
   ]
  },
  {
   "cell_type": "code",
   "execution_count": null,
   "id": "e9b26083",
   "metadata": {},
   "outputs": [],
   "source": [
    "# Preprocessing the data\n",
    "X = data.drop(['Unnamed: 0', 'created_at', 'id', 'lang', 'location', 'screen_name', 'account_type'], axis=1)\n",
    "X = pd.get_dummies(X, drop_first=True)\n",
    "y = data['account_type'].apply(lambda x: 1 if x == 'bot' else 0)\n",
    "\n",
    "# Scale the features\n",
    "scaler = StandardScaler()\n",
    "X_scaled = scaler.fit_transform(X)\n"
   ]
  },
  {
   "cell_type": "code",
   "execution_count": null,
   "id": "17699698",
   "metadata": {},
   "outputs": [],
   "source": [
    "# Initialize the model\n",
    "model_rf = RandomForestClassifier(n_estimators=100, max_depth=None, random_state=42)\n",
    "\n",
    "# Apply 5-fold cross-validation\n",
    "cv = StratifiedKFold(n_splits=5, shuffle=True, random_state=42)\n",
    "y_pred_rf = cross_val_predict(model_rf, X_scaled, y, cv=cv)\n",
    "\n",
    "# Evaluate the model\n",
    "conf_matrix_rf = confusion_matrix(y, y_pred_rf)\n",
    "accuracy_rf = accuracy_score(y, y_pred_rf)\n",
    "precision_rf = precision_score(y, y_pred_rf)\n",
    "recall_rf = recall_score(y, y_pred_rf)\n",
    "f1_rf = f1_score(y, y_pred_rf)\n",
    "\n",
    "# Print the results\n",
    "print(\"Random Forest Results:\")\n",
    "print(\"Confusion Matrix:\\n\", conf_matrix_rf)\n",
    "print(\"Accuracy:\", accuracy_rf)\n",
    "print(\"Precision:\", precision_rf)\n",
    "print(\"Recall:\", recall_rf)\n",
    "print(\"F1 Score:\", f1_rf)"
   ]
  }
 ],
 "metadata": {
  "kernelspec": {
   "display_name": "Python 3 (ipykernel)",
   "language": "python",
   "name": "python3"
  },
  "language_info": {
   "codemirror_mode": {
    "name": "ipython",
    "version": 3
   },
   "file_extension": ".py",
   "mimetype": "text/x-python",
   "name": "python",
   "nbconvert_exporter": "python",
   "pygments_lexer": "ipython3",
   "version": "3.10.5"
  }
 },
 "nbformat": 4,
 "nbformat_minor": 5
}

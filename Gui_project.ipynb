{
 "cells": [
  {
   "cell_type": "code",
   "execution_count": 2,
   "id": "2ae3c75b",
   "metadata": {},
   "outputs": [],
   "source": [
    "import tweepy\n",
    "import pandas as pd\n",
    "from tkinter import *\n",
    "from sklearn.preprocessing import StandardScaler\n",
    "from sklearn.linear_model import LogisticRegression\n",
    "import numpy as np\n",
    "import twitter\n",
    "from joblib import load\n"
   ]
  },
  {
   "cell_type": "code",
   "execution_count": 12,
   "id": "a7a3c650",
   "metadata": {},
   "outputs": [],
   "source": [
    "# Twitter API credentials\n",
    "consumer_key = '******'\n",
    "consumer_secret = '******'\n",
    "access_token = '********'\n",
    "access_token_secret = '*******'"
   ]
  },
  {
   "cell_type": "code",
   "execution_count": 23,
   "id": "dcf70e26",
   "metadata": {},
   "outputs": [
    {
     "name": "stdout",
     "output_type": "stream",
     "text": [
      "Authentication OK\n"
     ]
    }
   ],
   "source": [
    "# Authenticate with the Twitter API\n",
    "auth = tweepy.OAuthHandler(consumer_key, consumer_secret)\n",
    "auth.set_access_token(access_token, access_token_secret)\n",
    "api = tweepy.API(auth)\n",
    "\n",
    "# Verify credentials\n",
    "try:\n",
    "    api.verify_credentials()\n",
    "    print(\"Authentication OK\")\n",
    "except:\n",
    "    print(\"Error during authentication\")\n"
   ]
  },
  {
   "cell_type": "code",
   "execution_count": null,
   "id": "9ffe0dde",
   "metadata": {},
   "outputs": [],
   "source": [
    "# Load models and scaler\n",
    "models = {\n",
    "    'RF': joblib.load('D:\\\\Bot project\\\\final_model\\\\RF.joblib'),\n",
    "    'XGB': joblib.load('D:\\\\Bot project\\\\final_model\\\\XGB.joblib'),\n",
    "    'LR': joblib.load('D:\\\\Bot project\\\\final_model\\\\LR.joblib'),\n",
    "    'SVM': joblib.load('D:\\\\Bot project\\\\final_model\\\\SVM.joblib')\n",
    "}\n",
    "\n",
    "\n",
    "\n",
    "\n"
   ]
  },
  {
   "cell_type": "code",
   "execution_count": 7,
   "id": "5b27a1dc",
   "metadata": {},
   "outputs": [],
   "source": [
    "# Function to fetch Twitter user data\n",
    "def fetch_twitter_data(screen_name):\n",
    "    user = api.get_user(screen_name=screen_name)\n",
    "    features = {\n",
    "        'default_profile': [user.default_profile],\n",
    "        'default_profile_image': [user.default_profile_image],\n",
    "        'favourites_count': [user.favourites_count],\n",
    "        'followers_count': [user.followers_count],\n",
    "        'friends_count': [user.friends_count],\n",
    "        'geo_enabled': [user.geo_enabled],\n",
    "        'statuses_count': [user.statuses_count],\n",
    "        'verified': [user.verified],\n",
    "    }\n",
    "    return pd.DataFrame(features)\n",
    "\n",
    "# Function to make predictions\n",
    "def predict_user_type():\n",
    "    screen_name = entry.get().replace(\"https://twitter.com/\", \"\")\n",
    "    selected_model = models[var.get()]  # Get the selected model based on dropdown\n",
    "    try:\n",
    "        data = fetch_twitter_data(screen_name)\n",
    "        data_scaled = scaler.transform(data)  # Scale the features\n",
    "        prediction = selected_model.predict(data_scaled)\n",
    "        prediction_text = 'Bot' if prediction[0] == 1 else 'Human'\n",
    "        result_label.config(text=f\"Prediction: {prediction_text}\")\n",
    "    except Exception as e:\n",
    "        result_label.config(text=f\"Error: {str(e)}\")"
   ]
  },
  {
   "cell_type": "code",
   "execution_count": 13,
   "id": "c5290d90",
   "metadata": {},
   "outputs": [
    {
     "name": "stderr",
     "output_type": "stream",
     "text": [
      "Exception in Tkinter callback\n",
      "Traceback (most recent call last):\n",
      "  File \"C:\\Users\\alon3\\AppData\\Local\\Programs\\Python\\Python310\\lib\\tkinter\\__init__.py\", line 1921, in __call__\n",
      "    return self.func(*args)\n",
      "  File \"C:\\Users\\alon3\\AppData\\Local\\Temp\\ipykernel_18720\\2831729706.py\", line 20, in predict_user_type\n",
      "    selected_model = models[var.get()]  # Get the selected model based on dropdown\n",
      "NameError: name 'models' is not defined\n"
     ]
    }
   ],
   "source": [
    "#Set up the GUI\n",
    "root = Tk()\n",
    "root.title(\"Twitter User Classifier\")\n",
    "\n",
    "Label(root, text=\"Enter Twitter Profile Link:\").pack()\n",
    "entry = Entry(root, width=50)\n",
    "entry.pack()\n",
    "\n",
    "# Dropdown menu for model selection\n",
    "var = StringVar(root)\n",
    "var.set('LR')  # set the default value\n",
    "drop_down = OptionMenu(root, var, 'RF', 'XGB', 'LR', 'SVM')\n",
    "drop_down.pack()\n",
    "\n",
    "predict_button = Button(root, text=\"Predict\", command=predict_user_type)\n",
    "predict_button.pack()\n",
    "result_label = Label(root, text=f\"Prediction: Human\")\n",
    "result_label.pack()\n",
    "\n",
    "root.mainloop()"
   ]
  },
  {
   "cell_type": "code",
   "execution_count": null,
   "id": "96fd4316",
   "metadata": {},
   "outputs": [],
   "source": []
  }
 ],
 "metadata": {
  "kernelspec": {
   "display_name": "Python 3 (ipykernel)",
   "language": "python",
   "name": "python3"
  },
  "language_info": {
   "codemirror_mode": {
    "name": "ipython",
    "version": 3
   },
   "file_extension": ".py",
   "mimetype": "text/x-python",
   "name": "python",
   "nbconvert_exporter": "python",
   "pygments_lexer": "ipython3",
   "version": "3.10.5"
  }
 },
 "nbformat": 4,
 "nbformat_minor": 5
}

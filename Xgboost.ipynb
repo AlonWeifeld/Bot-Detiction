{
 "cells": [
  {
   "cell_type": "code",
   "execution_count": 9,
   "id": "e5b2808a",
   "metadata": {},
   "outputs": [],
   "source": [
    "from xgboost import XGBClassifier\n",
    "from sklearn.metrics import confusion_matrix, accuracy_score, precision_score, recall_score, f1_score\n",
    "from sklearn.model_selection import cross_val_predict, StratifiedKFold\n",
    "import pandas as pd\n",
    "from sklearn.preprocessing import StandardScaler\n",
    "import joblib\n"
   ]
  },
  {
   "cell_type": "code",
   "execution_count": 10,
   "id": "6f44b7dd",
   "metadata": {},
   "outputs": [],
   "source": [
    "# Load your dataset\n",
    "data = pd.read_csv('D:\\\\Bot project\\\\final_data\\\\final.csv')\n",
    "\n",
    "# Preprocessing the data\n",
    "X = data.drop(['Unnamed: 0', 'created_at', 'id', 'lang', 'location', 'screen_name', 'account_type'], axis=1)\n",
    "X = pd.get_dummies(X, drop_first=True)\n",
    "y = data['account_type'].apply(lambda x: 1 if x == 'bot' else 0)\n",
    "\n",
    "# Scale the features\n",
    "scaler = StandardScaler()\n",
    "X_scaled = scaler.fit_transform(X)\n"
   ]
  },
  {
   "cell_type": "code",
   "execution_count": null,
   "id": "55092111",
   "metadata": {},
   "outputs": [],
   "source": [
    "# Initialize the model\n",
    "model_xgb = XGBClassifier(learning_rate=0.1, n_estimators=100, max_depth=3, use_label_encoder=False, eval_metric='logloss', random_state=42)\n",
    "\n",
    "# Apply 5-fold cross-validation\n",
    "cv = StratifiedKFold(n_splits=5, shuffle=True, random_state=42)\n",
    "y_pred_xgb = cross_val_predict(model_xgb, X_scaled, y, cv=cv)\n",
    "\n",
    "# Evaluate the model\n",
    "conf_matrix_xgb = confusion_matrix(y, y_pred_xgb)\n",
    "accuracy_xgb = accuracy_score(y, y_pred_xgb)\n",
    "precision_xgb = precision_score(y, y_pred_xgb)\n",
    "recall_xgb = recall_score(y, y_pred_xgb)\n",
    "f1_xgb = f1_score(y, y_pred_xgb)\n",
    "\n",
    "# Print the results\n",
    "print(\"XGBoost Results:\")\n",
    "print(\"Confusion Matrix:\\n\", conf_matrix_xgb)\n",
    "print(\"Accuracy:\", accuracy_xgb)\n",
    "print(\"Precision:\", precision_xgb)\n",
    "print(\"Recall:\", recall_xgb)\n",
    "print(\"F1 Score:\", f1_xgb)"
   ]
  },
  {
   "cell_type": "code",
   "execution_count": null,
   "id": "cbc42da2",
   "metadata": {},
   "outputs": [],
   "source": [
    "model_xgb.fit(X_scaled, y)\n",
    "# Specify the path to save the model\n",
    "model_path = 'D:\\\\Bot_project\\\\final_data\\\\XGB.joblib'\n",
    "\n",
    "# Save the model\n",
    "joblib.dump(model_xgb, model_path)"
   ]
  }
 ],
 "metadata": {
  "kernelspec": {
   "display_name": "Python 3 (ipykernel)",
   "language": "python",
   "name": "python3"
  },
  "language_info": {
   "codemirror_mode": {
    "name": "ipython",
    "version": 3
   },
   "file_extension": ".py",
   "mimetype": "text/x-python",
   "name": "python",
   "nbconvert_exporter": "python",
   "pygments_lexer": "ipython3",
   "version": "3.10.5"
  }
 },
 "nbformat": 4,
 "nbformat_minor": 5
}

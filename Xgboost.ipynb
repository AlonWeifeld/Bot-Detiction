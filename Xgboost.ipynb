{
 "cells": [
  {
   "cell_type": "code",
   "execution_count": 1,
   "id": "a0fec565",
   "metadata": {},
   "outputs": [],
   "source": [
    "from xgboost import XGBClassifier\n",
    "from sklearn.metrics import confusion_matrix, accuracy_score, precision_score, recall_score, f1_score\n",
    "from sklearn.model_selection import cross_val_predict, StratifiedKFold\n",
    "import pandas as pd\n",
    "from sklearn.preprocessing import StandardScaler"
   ]
  },
  {
   "cell_type": "code",
   "execution_count": 2,
   "id": "8f543133",
   "metadata": {},
   "outputs": [],
   "source": [
    "# Load your dataset\n",
    "data = pd.read_csv('D:\\\\Bot project\\\\final_data\\\\final.csv')\n",
    "\n",
    "# Preprocessing the data\n",
    "X = data.drop(['Unnamed: 0', 'created_at', 'id', 'lang', 'location', 'screen_name', 'account_type'], axis=1)\n",
    "X = pd.get_dummies(X, drop_first=True)\n",
    "y = data['account_type'].apply(lambda x: 1 if x == 'bot' else 0)\n",
    "\n",
    "# Scale the features\n",
    "scaler = StandardScaler()\n",
    "X_scaled = scaler.fit_transform(X)\n"
   ]
  },
  {
   "cell_type": "code",
   "execution_count": 3,
   "id": "88340244",
   "metadata": {},
   "outputs": [
    {
     "name": "stdout",
     "output_type": "stream",
     "text": [
      "XGBoost Results:\n",
      "Confusion Matrix:\n",
      " [[23323  1690]\n",
      " [ 3315  9110]]\n",
      "Accuracy: 0.8663123030076393\n",
      "Precision: 0.8435185185185186\n",
      "Recall: 0.7331991951710262\n",
      "F1 Score: 0.7844994617868676\n"
     ]
    }
   ],
   "source": [
    "\n",
    "# Initialize the model\n",
    "model_xgb = XGBClassifier(learning_rate=0.1, n_estimators=100, max_depth=3, use_label_encoder=False, eval_metric='logloss', random_state=42)\n",
    "\n",
    "# Apply 5-fold cross-validation\n",
    "cv = StratifiedKFold(n_splits=5, shuffle=True, random_state=42)\n",
    "y_pred_xgb = cross_val_predict(model_xgb, X_scaled, y, cv=cv)\n",
    "\n",
    "# Evaluate the model\n",
    "conf_matrix_xgb = confusion_matrix(y, y_pred_xgb)\n",
    "accuracy_xgb = accuracy_score(y, y_pred_xgb)\n",
    "precision_xgb = precision_score(y, y_pred_xgb)\n",
    "recall_xgb = recall_score(y, y_pred_xgb)\n",
    "f1_xgb = f1_score(y, y_pred_xgb)\n",
    "\n",
    "# Print the results\n",
    "print(\"XGBoost Results:\")\n",
    "print(\"Confusion Matrix:\\n\", conf_matrix_xgb)\n",
    "print(\"Accuracy:\", accuracy_xgb)\n",
    "print(\"Precision:\", precision_xgb)\n",
    "print(\"Recall:\", recall_xgb)\n",
    "print(\"F1 Score:\", f1_xgb)"
   ]
  },
  {
   "cell_type": "code",
   "execution_count": null,
   "id": "5333de83",
   "metadata": {},
   "outputs": [],
   "source": []
  }
 ],
 "metadata": {
  "kernelspec": {
   "display_name": "Python 3 (ipykernel)",
   "language": "python",
   "name": "python3"
  },
  "language_info": {
   "codemirror_mode": {
    "name": "ipython",
    "version": 3
   },
   "file_extension": ".py",
   "mimetype": "text/x-python",
   "name": "python",
   "nbconvert_exporter": "python",
   "pygments_lexer": "ipython3",
   "version": "3.10.5"
  }
 },
 "nbformat": 4,
 "nbformat_minor": 5
}

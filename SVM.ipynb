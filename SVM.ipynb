{
 "cells": [
  {
   "cell_type": "code",
   "execution_count": 1,
   "id": "774b3cfa",
   "metadata": {},
   "outputs": [],
   "source": [
    "from sklearn.svm import SVC\n",
    "from sklearn.metrics import confusion_matrix, accuracy_score, precision_score, recall_score, f1_score\n",
    "from sklearn.model_selection import cross_val_predict, StratifiedKFold\n",
    "import pandas as pd\n",
    "from sklearn.preprocessing import StandardScaler"
   ]
  },
  {
   "cell_type": "code",
   "execution_count": null,
   "id": "ebc5ef32",
   "metadata": {},
   "outputs": [],
   "source": [
    "# Load your dataset\n",
    "data = pd.read_csv('D:\\\\Bot project\\\\final_data\\\\final.csv')"
   ]
  },
  {
   "cell_type": "code",
   "execution_count": null,
   "id": "9d60e3cd",
   "metadata": {},
   "outputs": [],
   "source": [
    "# Preprocessing the data\n",
    "X = data.drop(['Unnamed: 0', 'created_at', 'id', 'lang', 'location', 'screen_name', 'account_type'], axis=1)\n",
    "X = pd.get_dummies(X, drop_first=True)\n",
    "y = data['account_type'].apply(lambda x: 1 if x == 'bot' else 0)\n",
    "\n",
    "# Scale the features\n",
    "scaler = StandardScaler()\n",
    "X_scaled = scaler.fit_transform(X)"
   ]
  },
  {
   "cell_type": "code",
   "execution_count": null,
   "id": "f6c96b9e",
   "metadata": {},
   "outputs": [],
   "source": [
    "# Initialize the model\n",
    "model_ = SVC(C=1.0, kernel='rbf', probability=True, random_state=42)\n",
    "\n",
    "# Apply 5-fold cross-validation\n",
    "cv = StratifiedKFold(n_splits=5, shuffle=True, random_state=42)\n",
    "y_pred_svm = cross_val_predict(model_svm, X_scaled, y, cv=cv)\n",
    "\n",
    "# Evaluate the model\n",
    "conf_matrix_svm = confusion_matrix(y, y_pred_svm)\n",
    "accuracy_svm = accuracy_score(y, y_pred_svm)\n",
    "precision_svm = precision_score(y, y_pred_svm)\n",
    "recall_svm = recall_score(y, y_pred_svm)\n",
    "f1_svm = f1_score(y, y_pred_svm)\n",
    "\n",
    "# Print the results\n",
    "print(\"SVM Results:\")\n",
    "print(\"Confusion Matrix:\\n\", conf_matrix_svm)\n",
    "print(\"Accuracy:\", accuracy_svm)\n",
    "print(\"Precision:\", precision_svm)\n",
    "print(\"Recall:\", recall_svm)\n",
    "print(\"F1 Score:\", f1_svm)"
   ]
  },
  {
   "cell_type": "code",
   "execution_count": null,
   "id": "3fa101e8",
   "metadata": {},
   "outputs": [],
   "source": [
    "model_svm.fit(X_scaled, y)\n",
    "# Specify the path to save the model\n",
    "model_path = 'D:\\\\Bot_project\\\\final_data\\\\SVM.joblib'\n",
    "\n",
    "# Save the model\n",
    "joblib.dump(model_svm, model_path)"
   ]
  }
 ],
 "metadata": {
  "kernelspec": {
   "display_name": "Python 3 (ipykernel)",
   "language": "python",
   "name": "python3"
  },
  "language_info": {
   "codemirror_mode": {
    "name": "ipython",
    "version": 3
   },
   "file_extension": ".py",
   "mimetype": "text/x-python",
   "name": "python",
   "nbconvert_exporter": "python",
   "pygments_lexer": "ipython3",
   "version": "3.10.5"
  }
 },
 "nbformat": 4,
 "nbformat_minor": 5
}
